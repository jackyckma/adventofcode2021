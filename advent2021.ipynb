{
 "cells": [
  {
   "cell_type": "code",
   "execution_count": 167,
   "metadata": {},
   "outputs": [],
   "source": [
    "import functools\n",
    "import numpy as np\n",
    "import math"
   ]
  },
  {
   "cell_type": "code",
   "execution_count": 127,
   "metadata": {},
   "outputs": [
    {
     "name": "stdout",
     "output_type": "stream",
     "text": [
      "flat_count=0\n",
      "increased_count=1713\n",
      "decreased_count=286\n"
     ]
    }
   ],
   "source": [
    "#day1\n",
    "with open('advent2021/day1.txt') as f:\n",
    "    lines = f.readlines()\n",
    "\n",
    "lines = list(map(int, lines))\n",
    "num1 = lines[0]\n",
    "increased_count = 0\n",
    "decreased_count = 0\n",
    "flat_count = 0\n",
    "\n",
    "for n in range(1, len(lines)):\n",
    "    num2 = lines[n]\n",
    "    if num2==num1:\n",
    "        flat_count += 1\n",
    "    elif num2>num1:\n",
    "        increased_count +=1\n",
    "    else:\n",
    "        decreased_count +=1\n",
    "    num1 = num2\n",
    "        \n",
    "print(f\"{flat_count=}\")\n",
    "print(f\"{increased_count=}\")\n",
    "print(f\"{decreased_count=}\")\n",
    "        \n",
    "    "
   ]
  },
  {
   "cell_type": "code",
   "execution_count": 130,
   "metadata": {},
   "outputs": [
    {
     "name": "stdout",
     "output_type": "stream",
     "text": [
      "flat_count=40\n",
      "increased_count=1734\n",
      "decreased_count=223\n"
     ]
    }
   ],
   "source": [
    "lines2 = [lines[i] + lines[i+1] + lines[i+2] for i in range(len(lines) - 2)]\n",
    "\n",
    "num1 = lines2[0]\n",
    "increased_count = 0\n",
    "decreased_count = 0\n",
    "flat_count = 0\n",
    "\n",
    "for n in range(1, len(lines2)):\n",
    "    num2 = lines2[n]\n",
    "    if num2==num1:\n",
    "        flat_count += 1\n",
    "    elif num2>num1:\n",
    "        increased_count +=1\n",
    "    else:\n",
    "        decreased_count +=1\n",
    "    num1 = num2\n",
    "        \n",
    "print(f\"{flat_count=}\")\n",
    "print(f\"{increased_count=}\")\n",
    "print(f\"{decreased_count=}\")"
   ]
  },
  {
   "cell_type": "code",
   "execution_count": 132,
   "metadata": {},
   "outputs": [],
   "source": [
    "#day2\n",
    "\n",
    "with open('advent2021/day2.txt') as f:\n",
    "    lines = f.readlines()"
   ]
  },
  {
   "cell_type": "code",
   "execution_count": 137,
   "metadata": {},
   "outputs": [
    {
     "name": "stdout",
     "output_type": "stream",
     "text": [
      "x=1939, y=1109, x*y=2150351\n"
     ]
    }
   ],
   "source": [
    "# part 1\n",
    "\n",
    "x = 0\n",
    "y = 0\n",
    "\n",
    "for l in lines:\n",
    "    d, n = l.split(' ')\n",
    "    n = int(n)\n",
    "    if d=='forward':\n",
    "        x+=n\n",
    "    elif d=='down':\n",
    "        y+=n\n",
    "    elif d=='up':\n",
    "        y-=n\n",
    "    else:\n",
    "        print(f'error: {l}')\n",
    "        \n",
    "print(f'{x=}, {y=}, {x*y=}')"
   ]
  },
  {
   "cell_type": "code",
   "execution_count": 138,
   "metadata": {},
   "outputs": [
    {
     "name": "stdout",
     "output_type": "stream",
     "text": [
      "x=1939, y=950357, x*y=1842742223\n"
     ]
    }
   ],
   "source": [
    "# part 2\n",
    "\n",
    "x = 0\n",
    "y = 0\n",
    "aim = 0\n",
    "\n",
    "for l in lines:\n",
    "    d, n = l.split(' ')\n",
    "    n = int(n)\n",
    "    if d=='forward':\n",
    "        x+=n\n",
    "        y+=aim*n\n",
    "    elif d=='down':\n",
    "        aim+=n\n",
    "    elif d=='up':\n",
    "        aim-=n\n",
    "    else:\n",
    "        print(f'error: {l}')\n",
    "        \n",
    "print(f'{x=}, {y=}, {x*y=}')"
   ]
  },
  {
   "cell_type": "code",
   "execution_count": 199,
   "metadata": {},
   "outputs": [
    {
     "data": {
      "text/plain": [
       "(1000, 12)"
      ]
     },
     "execution_count": 199,
     "metadata": {},
     "output_type": "execute_result"
    }
   ],
   "source": [
    "#day3\n",
    "from scipy.stats import mode\n",
    "\n",
    "with open('advent2021/day3.txt') as f:\n",
    "    lines = f.readlines()\n",
    "    \n",
    "# parse data\n",
    "def str_to_numbers(s):\n",
    "    return [int(c) for c in s]\n",
    "\n",
    "lines = list(map(lambda l: l[:-1], lines))\n",
    "data = [str_to_numbers(l) for l in lines]\n",
    "arr = np.array(data)\n",
    "arr.shape"
   ]
  },
  {
   "cell_type": "code",
   "execution_count": 200,
   "metadata": {},
   "outputs": [
    {
     "name": "stdout",
     "output_type": "stream",
     "text": [
      "gamma=3529, epsilon=566, gamma*epsilon=1997414\n"
     ]
    }
   ],
   "source": [
    "# part 1\n",
    "\n",
    "gamma_list = []\n",
    "for i in range(12):\n",
    "    gamma_list.append(mode(arr[:, i])[0][0])\n",
    "\n",
    "epsilon_list = list(map(lambda x:1-x, gamma_list))\n",
    "\n",
    "gamma = int('0b'+''.join([str(n) for n in gamma_list]), 2)\n",
    "epsilon = int('0b'+''.join([str(n) for n in epsilon_list]), 2)\n",
    "\n",
    "print(f'{gamma=}, {epsilon=}, {gamma*epsilon=}')"
   ]
  },
  {
   "cell_type": "code",
   "execution_count": 201,
   "metadata": {},
   "outputs": [],
   "source": [
    "# part 2 - oxygen \n",
    "\n",
    "oxygen_arr = arr.copy()\n",
    "\n",
    "oxygen_list = []\n",
    "for i in range(12):\n",
    "    length = oxygen_arr.shape[0]\n",
    "    if length==1:\n",
    "        oxygen_list=list(oxygen_arr[0])\n",
    "        break\n",
    "\n",
    "    count = mode(oxygen_arr[:, i])[1][0]\n",
    "    v = 1 if count == length/2 else mode(oxygen_arr[:, i])[0][0]\n",
    "    \n",
    "    oxygen_list.append(v)\n",
    "\n",
    "    oxygen_arr = oxygen_arr[oxygen_arr[:,i]==v]\n",
    "    \n",
    "oxygen = int('0b'+''.join([str(n) for n in oxygen_list]), 2)\n",
    "\n"
   ]
  },
  {
   "cell_type": "code",
   "execution_count": 233,
   "metadata": {},
   "outputs": [],
   "source": [
    "# part 2 - co2 \n",
    "\n",
    "co2_arr = arr.copy()\n",
    "\n",
    "co2_list = []\n",
    "for i in range(12):\n",
    "    length = co2_arr.shape[0]\n",
    "    if length==1:\n",
    "        co2_list=list(co2_arr[0])\n",
    "        break\n",
    "\n",
    "    count = mode(co2_arr[:, i])[1][0]\n",
    "    v = 0 if count == length/2 else mode(co2_arr[:, i])[0][0]\n",
    "\n",
    "    co2_list.append(v)\n",
    "\n",
    "    co2_arr = co2_arr[co2_arr[:,i]==v]\n",
    "    \n",
    "co2 = int('0b'+''.join([str(n) for n in co2_list]), 2)\n",
    "\n",
    "print(f'{oxygen=}, {co2=}, {oxygen*co2=}')"
   ]
  },
  {
   "cell_type": "code",
   "execution_count": 76,
   "metadata": {},
   "outputs": [],
   "source": [
    "#day 4\n",
    "\n",
    "with open('advent2021/day4.txt') as f:\n",
    "    lines = f.readlines()\n",
    "\n",
    "# variable setup\n",
    "boards = []\n",
    "boards_mask = []\n",
    "win_mask = [False] * 100\n",
    "board = []\n",
    "\n",
    "# parse data\n",
    "seq_input = [int(n) for n in lines[0].split(',')]\n",
    "\n",
    "for line in lines[2:]:\n",
    "    if line=='\\n':\n",
    "        boards.append(np.array(board))\n",
    "        boards_mask.append(np.zeros((5,5)))\n",
    "        board = []\n",
    "    else:\n",
    "        board.append([int(line[i*3:i*3+2]) for i in range(0,5)])\n",
    "        \n",
    "# append the last board record\n",
    "boards.append(np.array(board))\n",
    "boards_mask.append(np.zeros((5,5)))"
   ]
  },
  {
   "cell_type": "code",
   "execution_count": 89,
   "metadata": {},
   "outputs": [],
   "source": [
    "# updating algo - for both parts\n",
    "\n",
    "win_seq = 0\n",
    "seq=[]\n",
    "\n",
    "for n in seq_input:\n",
    "    for i in range(len(boards)):\n",
    "        if win_mask[i] == False:        \n",
    "            boards_mask[i] += (boards[i] == n)\n",
    "\n",
    "            win = np.any(boards_mask[i].sum(axis=0)==5) or np.any(boards_mask[i].sum(axis=1)==5)\n",
    "                  \n",
    "            if win:\n",
    "                win_mask[i] = True\n",
    "                seq.append((i, n))\n"
   ]
  },
  {
   "cell_type": "code",
   "execution_count": 92,
   "metadata": {},
   "outputs": [
    {
     "name": "stdout",
     "output_type": "stream",
     "text": [
      "first win board = 36\n",
      "[[80 16 10 79 55]\n",
      " [93 60  4  0 29]\n",
      " [ 7 97  3  9 86]\n",
      " [43 67 78 64 35]\n",
      " [44 83 40 33 12]]\n",
      "[[0. 0. 0. 1. 1.]\n",
      " [0. 0. 0. 1. 0.]\n",
      " [0. 0. 0. 1. 0.]\n",
      " [0. 0. 1. 1. 0.]\n",
      " [0. 0. 0. 1. 0.]]\n",
      "score=51776.0\n",
      "last win board = 34\n",
      "[[ 6  3 41  5 44]\n",
      " [91 21 32 49 81]\n",
      " [29 85 47 20 14]\n",
      " [99 31 43 22 69]\n",
      " [90  4 45  8 16]]\n",
      "[[1. 0. 1. 1. 0.]\n",
      " [1. 1. 1. 0. 1.]\n",
      " [0. 1. 1. 1. 1.]\n",
      " [1. 1. 1. 1. 1.]\n",
      " [1. 1. 0. 1. 1.]]\n",
      "score=16830.0\n"
     ]
    }
   ],
   "source": [
    "# print results\n",
    "# part 1 - first win board \n",
    "# part 2 - last win board \n",
    "\n",
    "first_win_board, first_win_num = seq[0]\n",
    "last_win_board, last_win_num = seq[-1]\n",
    "\n",
    "for b in [('first', first_win_board, first_win_num), ('last', last_win_board, last_win_num)]:\n",
    "    name, idx, win_num = b\n",
    "    print(f'{name} win board = {idx}')\n",
    "    print(boards[idx])\n",
    "    print(boards_mask[idx])\n",
    "\n",
    "    score = win_num * (boards[idx] * (1 - boards_mask[idx])).sum()\n",
    "    print(f'{score=}')\n"
   ]
  },
  {
   "cell_type": "code",
   "execution_count": 93,
   "metadata": {},
   "outputs": [],
   "source": [
    "# day 5\n",
    "\n",
    "with open('advent2021/day5.txt') as f:\n",
    "    lines = f.readlines()\n",
    "    \n",
    "# parse data\n",
    "\n",
    "import re\n",
    "p = re.compile('(\\d+),(\\d+) -> (\\d+),(\\d+)')\n",
    "\n",
    "data = [p.match(l).groups() for l in lines]\n",
    "data = [(int(l[0]), int(l[1]), int(l[2]), int(l[3])) for l in data]"
   ]
  },
  {
   "cell_type": "code",
   "execution_count": 169,
   "metadata": {},
   "outputs": [
    {
     "name": "stdout",
     "output_type": "stream",
     "text": [
      "6856\n"
     ]
    }
   ],
   "source": [
    "# part 1\n",
    "space = np.zeros((1000, 1000))\n",
    "\n",
    "for d in data:\n",
    "    x0, y0, x1, y1 = d\n",
    "    if (x0==x1) or (y0==y1):\n",
    "        space[min(y0,y1):max(y0,y1)+1, min(x0,x1):max(x0,x1)+1] += 1\n",
    "        \n",
    "print((space>=2).sum())"
   ]
  },
  {
   "cell_type": "code",
   "execution_count": 195,
   "metadata": {},
   "outputs": [
    {
     "name": "stdout",
     "output_type": "stream",
     "text": [
      "20666\n"
     ]
    }
   ],
   "source": [
    "#part 2\n",
    "space = np.zeros((1000, 1000))\n",
    "\n",
    "\n",
    "for d in data:\n",
    "    x0, y0, x1, y1 = d\n",
    "    if (x0==x1) or (y0==y1): #straight line\n",
    "        space[min(y0,y1):max(y0,y1)+1, min(x0,x1):max(x0,x1)+1] += 1\n",
    "    elif abs(x0-x1)==abs(y0-y1): #diagonal line\n",
    "        steps = abs(x0-x1) + 1\n",
    "        x_direction = int(math.copysign(1, x1-x0))\n",
    "        y_direction = int(math.copysign(1, y1-y0))\n",
    "        \n",
    "        for s in range(steps):\n",
    "            _y = y0 + s*y_direction\n",
    "            _x = x0 + s*x_direction\n",
    "            space[_y, _x] += 1\n",
    "\n",
    "        \n",
    "print((space>=2).sum())"
   ]
  },
  {
   "cell_type": "code",
   "execution_count": 237,
   "metadata": {},
   "outputs": [],
   "source": [
    "# day 6\n",
    "\n",
    "with open('advent2021/day6.txt') as f:\n",
    "    lines = f.readlines()\n",
    "    \n",
    "fishes = lines[0].strip().split(',')\n",
    "data = [int(fish) for fish in fishes]"
   ]
  },
  {
   "cell_type": "code",
   "execution_count": 238,
   "metadata": {},
   "outputs": [
    {
     "data": {
      "text/plain": [
       "362666"
      ]
     },
     "execution_count": 238,
     "metadata": {},
     "output_type": "execute_result"
    }
   ],
   "source": [
    "# part 1\n",
    "\n",
    "total_days = 80\n",
    "\n",
    "fishes = data.copy()\n",
    "for day in range(total_days):\n",
    "    new_fish = []\n",
    "    for idx, fish in enumerate(fishes):\n",
    "\n",
    "        if fish==0: \n",
    "            new_fish.append(8)\n",
    "        fishes[idx] = (fish - 1) if fish>0 else 6\n",
    "    fishes.extend(new_fish)\n",
    "    \n",
    "len(fishes)"
   ]
  },
  {
   "cell_type": "code",
   "execution_count": 270,
   "metadata": {},
   "outputs": [
    {
     "name": "stdout",
     "output_type": "stream",
     "text": [
      "{0: 141609768142, 1: 168220217323, 2: 174580192795, 3: 192297609038, 4: 216599442496, 5: 220638749612, 6: 264026507130, 7: 118312776454, 8: 144241338605}\n",
      "1640526601595\n"
     ]
    }
   ],
   "source": [
    "# part 2 - same question, anther implementation given computation time\n",
    "\n",
    "fishes = data.copy()\n",
    "fish_count = {n:fishes.count(n) for n in range(9)}\n",
    "\n",
    "total_days = 256\n",
    "\n",
    "for day in range(total_days):\n",
    "    new_fish_count = {n-1:fish_count[n] for n in range(9)}\n",
    "    new_fish_count[8] = new_fish_count[-1]\n",
    "    new_fish_count[6] += new_fish_count[-1]\n",
    "    new_fish_count.pop(-1)\n",
    "    fish_count = new_fish_count\n",
    "    \n",
    "print(fish_count)\n",
    "print(sum(fish_count.values()))"
   ]
  },
  {
   "cell_type": "code",
   "execution_count": 277,
   "metadata": {},
   "outputs": [],
   "source": [
    "# day 7\n",
    "\n",
    "with open('advent2021/day7.txt') as f:\n",
    "    lines = f.readlines()\n",
    "    \n",
    "data = lines[0].strip().split(',')\n",
    "data = list(map(int, data))"
   ]
  },
  {
   "cell_type": "code",
   "execution_count": 289,
   "metadata": {},
   "outputs": [
    {
     "name": "stdout",
     "output_type": "stream",
     "text": [
      "sum absolute_distance: 325528.0\n"
     ]
    }
   ],
   "source": [
    "# part 1\n",
    "\n",
    "median = np.median(data)\n",
    "absolute_distance = list(map(lambda x:abs(x - median), data))\n",
    "\n",
    "print(f'sum absolute_distance: {np.sum(absolute_distance)}')"
   ]
  },
  {
   "cell_type": "code",
   "execution_count": 314,
   "metadata": {},
   "outputs": [],
   "source": [
    "# part 2\n",
    "\n",
    "def fuel_needed(dist):\n",
    "    return sum(range(dist+1))\n",
    "\n",
    "def total_fuel(alignment_point):\n",
    "    fuel_list = list(map(lambda x:fuel_needed(abs(x - int(alignment_point))), data))\n",
    "    return np.sum(fuel_list)\n",
    "    "
   ]
  },
  {
   "cell_type": "code",
   "execution_count": 329,
   "metadata": {},
   "outputs": [
    {
     "name": "stdout",
     "output_type": "stream",
     "text": [
      "left=0, mid_point=881, right=1762\n",
      "left=0, mid_point=440, right=881\n",
      "left=440, mid_point=660, right=881\n",
      "left=440, mid_point=550, right=660\n",
      "left=440, mid_point=495, right=550\n",
      "left=440, mid_point=467, right=495\n",
      "left=440, mid_point=453, right=467\n",
      "left=453, mid_point=460, right=467\n",
      "left=453, mid_point=456, right=460\n",
      "left=456, mid_point=458, right=460\n",
      "left:left=458:total_fuel(left)=85018811\n",
      "left:mid_point=458:total_fuel(mid_point)=85018811\n",
      "right:right=460:total_fuel(right)=85015836\n"
     ]
    }
   ],
   "source": [
    "# part 2 - find the turning point in the function\n",
    "\n",
    "left = 0\n",
    "right = max(data) - 1\n",
    "\n",
    "# for illustration purpose. not needed indeed\n",
    "# left_direction = math.copysign(1, total_fuel(left + 1) - total_fuel(left))\n",
    "# right_direction = math.copysign(1, total_fuel(right + 1) - total_fuel(right))\n",
    "\n",
    "found = False\n",
    "\n",
    "while not found:\n",
    "    mid_point = int( (left + right) / 2)\n",
    "    mid_direction = math.copysign(1, total_fuel(mid_point + 1) - total_fuel(mid_point))\n",
    "    print(f'{left=}, {mid_point=}, {right=}')\n",
    "    if mid_direction == -1:\n",
    "        left = mid_point\n",
    "    else:\n",
    "        right = mid_point\n",
    "        \n",
    "    if right-left<3:\n",
    "        found = True\n",
    "\n",
    "\n",
    "print(f'left:{left=}:{total_fuel(left)=}')\n",
    "print(f'left:{mid_point=}:{total_fuel(mid_point)=}')\n",
    "print(f'right:{right=}:{total_fuel(right)=}')  # supposely, right is the turning point\n"
   ]
  }
 ],
 "metadata": {
  "kernelspec": {
   "display_name": "Python 3",
   "language": "python",
   "name": "python3"
  },
  "language_info": {
   "codemirror_mode": {
    "name": "ipython",
    "version": 3
   },
   "file_extension": ".py",
   "mimetype": "text/x-python",
   "name": "python",
   "nbconvert_exporter": "python",
   "pygments_lexer": "ipython3",
   "version": "3.8.3"
  }
 },
 "nbformat": 4,
 "nbformat_minor": 4
}
