{
 "cells": [
  {
   "cell_type": "code",
   "execution_count": 167,
   "metadata": {},
   "outputs": [],
   "source": [
    "import functools\n",
    "import numpy as np\n",
    "import math"
   ]
  },
  {
   "cell_type": "code",
   "execution_count": 127,
   "metadata": {},
   "outputs": [
    {
     "name": "stdout",
     "output_type": "stream",
     "text": [
      "flat_count=0\n",
      "increased_count=1713\n",
      "decreased_count=286\n"
     ]
    }
   ],
   "source": [
    "#day1\n",
    "with open('advent2021/day1.txt') as f:\n",
    "    lines = f.readlines()\n",
    "\n",
    "lines = list(map(int, lines))\n",
    "num1 = lines[0]\n",
    "increased_count = 0\n",
    "decreased_count = 0\n",
    "flat_count = 0\n",
    "\n",
    "for n in range(1, len(lines)):\n",
    "    num2 = lines[n]\n",
    "    if num2==num1:\n",
    "        flat_count += 1\n",
    "    elif num2>num1:\n",
    "        increased_count +=1\n",
    "    else:\n",
    "        decreased_count +=1\n",
    "    num1 = num2\n",
    "        \n",
    "print(f\"{flat_count=}\")\n",
    "print(f\"{increased_count=}\")\n",
    "print(f\"{decreased_count=}\")\n",
    "        \n",
    "    "
   ]
  },
  {
   "cell_type": "code",
   "execution_count": 130,
   "metadata": {},
   "outputs": [
    {
     "name": "stdout",
     "output_type": "stream",
     "text": [
      "flat_count=40\n",
      "increased_count=1734\n",
      "decreased_count=223\n"
     ]
    }
   ],
   "source": [
    "lines2 = [lines[i] + lines[i+1] + lines[i+2] for i in range(len(lines) - 2)]\n",
    "\n",
    "num1 = lines2[0]\n",
    "increased_count = 0\n",
    "decreased_count = 0\n",
    "flat_count = 0\n",
    "\n",
    "for n in range(1, len(lines2)):\n",
    "    num2 = lines2[n]\n",
    "    if num2==num1:\n",
    "        flat_count += 1\n",
    "    elif num2>num1:\n",
    "        increased_count +=1\n",
    "    else:\n",
    "        decreased_count +=1\n",
    "    num1 = num2\n",
    "        \n",
    "print(f\"{flat_count=}\")\n",
    "print(f\"{increased_count=}\")\n",
    "print(f\"{decreased_count=}\")"
   ]
  },
  {
   "cell_type": "code",
   "execution_count": 132,
   "metadata": {},
   "outputs": [],
   "source": [
    "#day2\n",
    "\n",
    "with open('advent2021/day2.txt') as f:\n",
    "    lines = f.readlines()"
   ]
  },
  {
   "cell_type": "code",
   "execution_count": 137,
   "metadata": {},
   "outputs": [
    {
     "name": "stdout",
     "output_type": "stream",
     "text": [
      "x=1939, y=1109, x*y=2150351\n"
     ]
    }
   ],
   "source": [
    "# part 1\n",
    "\n",
    "x = 0\n",
    "y = 0\n",
    "\n",
    "for l in lines:\n",
    "    d, n = l.split(' ')\n",
    "    n = int(n)\n",
    "    if d=='forward':\n",
    "        x+=n\n",
    "    elif d=='down':\n",
    "        y+=n\n",
    "    elif d=='up':\n",
    "        y-=n\n",
    "    else:\n",
    "        print(f'error: {l}')\n",
    "        \n",
    "print(f'{x=}, {y=}, {x*y=}')"
   ]
  },
  {
   "cell_type": "code",
   "execution_count": 138,
   "metadata": {},
   "outputs": [
    {
     "name": "stdout",
     "output_type": "stream",
     "text": [
      "x=1939, y=950357, x*y=1842742223\n"
     ]
    }
   ],
   "source": [
    "# part 2\n",
    "\n",
    "x = 0\n",
    "y = 0\n",
    "aim = 0\n",
    "\n",
    "for l in lines:\n",
    "    d, n = l.split(' ')\n",
    "    n = int(n)\n",
    "    if d=='forward':\n",
    "        x+=n\n",
    "        y+=aim*n\n",
    "    elif d=='down':\n",
    "        aim+=n\n",
    "    elif d=='up':\n",
    "        aim-=n\n",
    "    else:\n",
    "        print(f'error: {l}')\n",
    "        \n",
    "print(f'{x=}, {y=}, {x*y=}')"
   ]
  },
  {
   "cell_type": "code",
   "execution_count": 199,
   "metadata": {},
   "outputs": [
    {
     "data": {
      "text/plain": [
       "(1000, 12)"
      ]
     },
     "execution_count": 199,
     "metadata": {},
     "output_type": "execute_result"
    }
   ],
   "source": [
    "#day3\n",
    "from scipy.stats import mode\n",
    "\n",
    "with open('advent2021/day3.txt') as f:\n",
    "    lines = f.readlines()\n",
    "    \n",
    "# parse data\n",
    "def str_to_numbers(s):\n",
    "    return [int(c) for c in s]\n",
    "\n",
    "lines = list(map(lambda l: l[:-1], lines))\n",
    "data = [str_to_numbers(l) for l in lines]\n",
    "arr = np.array(data)\n",
    "arr.shape"
   ]
  },
  {
   "cell_type": "code",
   "execution_count": 200,
   "metadata": {},
   "outputs": [
    {
     "name": "stdout",
     "output_type": "stream",
     "text": [
      "gamma=3529, epsilon=566, gamma*epsilon=1997414\n"
     ]
    }
   ],
   "source": [
    "# part 1\n",
    "\n",
    "gamma_list = []\n",
    "for i in range(12):\n",
    "    gamma_list.append(mode(arr[:, i])[0][0])\n",
    "\n",
    "epsilon_list = list(map(lambda x:1-x, gamma_list))\n",
    "\n",
    "gamma = int('0b'+''.join([str(n) for n in gamma_list]), 2)\n",
    "epsilon = int('0b'+''.join([str(n) for n in epsilon_list]), 2)\n",
    "\n",
    "print(f'{gamma=}, {epsilon=}, {gamma*epsilon=}')"
   ]
  },
  {
   "cell_type": "code",
   "execution_count": 201,
   "metadata": {},
   "outputs": [],
   "source": [
    "# part 2 - oxygen \n",
    "\n",
    "oxygen_arr = arr.copy()\n",
    "\n",
    "oxygen_list = []\n",
    "for i in range(12):\n",
    "    length = oxygen_arr.shape[0]\n",
    "    if length==1:\n",
    "        oxygen_list=list(oxygen_arr[0])\n",
    "        break\n",
    "\n",
    "    count = mode(oxygen_arr[:, i])[1][0]\n",
    "    v = 1 if count == length/2 else mode(oxygen_arr[:, i])[0][0]\n",
    "    \n",
    "    oxygen_list.append(v)\n",
    "\n",
    "    oxygen_arr = oxygen_arr[oxygen_arr[:,i]==v]\n",
    "    \n",
    "oxygen = int('0b'+''.join([str(n) for n in oxygen_list]), 2)\n",
    "\n"
   ]
  },
  {
   "cell_type": "code",
   "execution_count": 233,
   "metadata": {},
   "outputs": [],
   "source": [
    "# part 2 - co2 \n",
    "\n",
    "co2_arr = arr.copy()\n",
    "\n",
    "co2_list = []\n",
    "for i in range(12):\n",
    "    length = co2_arr.shape[0]\n",
    "    if length==1:\n",
    "        co2_list=list(co2_arr[0])\n",
    "        break\n",
    "\n",
    "    count = mode(co2_arr[:, i])[1][0]\n",
    "    v = 0 if count == length/2 else mode(co2_arr[:, i])[0][0]\n",
    "\n",
    "    co2_list.append(v)\n",
    "\n",
    "    co2_arr = co2_arr[co2_arr[:,i]==v]\n",
    "    \n",
    "co2 = int('0b'+''.join([str(n) for n in co2_list]), 2)\n",
    "\n",
    "print(f'{oxygen=}, {co2=}, {oxygen*co2=}')"
   ]
  },
  {
   "cell_type": "code",
   "execution_count": 76,
   "metadata": {},
   "outputs": [],
   "source": [
    "#day 4\n",
    "\n",
    "with open('advent2021/day4.txt') as f:\n",
    "    lines = f.readlines()\n",
    "\n",
    "# variable setup\n",
    "boards = []\n",
    "boards_mask = []\n",
    "win_mask = [False] * 100\n",
    "board = []\n",
    "\n",
    "# parse data\n",
    "seq_input = [int(n) for n in lines[0].split(',')]\n",
    "\n",
    "for line in lines[2:]:\n",
    "    if line=='\\n':\n",
    "        boards.append(np.array(board))\n",
    "        boards_mask.append(np.zeros((5,5)))\n",
    "        board = []\n",
    "    else:\n",
    "        board.append([int(line[i*3:i*3+2]) for i in range(0,5)])\n",
    "        \n",
    "# append the last board record\n",
    "boards.append(np.array(board))\n",
    "boards_mask.append(np.zeros((5,5)))"
   ]
  },
  {
   "cell_type": "code",
   "execution_count": 89,
   "metadata": {},
   "outputs": [],
   "source": [
    "# updating algo - for both parts\n",
    "\n",
    "win_seq = 0\n",
    "seq=[]\n",
    "\n",
    "for n in seq_input:\n",
    "    for i in range(len(boards)):\n",
    "        if win_mask[i] == False:        \n",
    "            boards_mask[i] += (boards[i] == n)\n",
    "\n",
    "            win = np.any(boards_mask[i].sum(axis=0)==5) or np.any(boards_mask[i].sum(axis=1)==5)\n",
    "                  \n",
    "            if win:\n",
    "                win_mask[i] = True\n",
    "                seq.append((i, n))\n"
   ]
  },
  {
   "cell_type": "code",
   "execution_count": 92,
   "metadata": {},
   "outputs": [
    {
     "name": "stdout",
     "output_type": "stream",
     "text": [
      "first win board = 36\n",
      "[[80 16 10 79 55]\n",
      " [93 60  4  0 29]\n",
      " [ 7 97  3  9 86]\n",
      " [43 67 78 64 35]\n",
      " [44 83 40 33 12]]\n",
      "[[0. 0. 0. 1. 1.]\n",
      " [0. 0. 0. 1. 0.]\n",
      " [0. 0. 0. 1. 0.]\n",
      " [0. 0. 1. 1. 0.]\n",
      " [0. 0. 0. 1. 0.]]\n",
      "score=51776.0\n",
      "last win board = 34\n",
      "[[ 6  3 41  5 44]\n",
      " [91 21 32 49 81]\n",
      " [29 85 47 20 14]\n",
      " [99 31 43 22 69]\n",
      " [90  4 45  8 16]]\n",
      "[[1. 0. 1. 1. 0.]\n",
      " [1. 1. 1. 0. 1.]\n",
      " [0. 1. 1. 1. 1.]\n",
      " [1. 1. 1. 1. 1.]\n",
      " [1. 1. 0. 1. 1.]]\n",
      "score=16830.0\n"
     ]
    }
   ],
   "source": [
    "# print results\n",
    "# part 1 - first win board \n",
    "# part 2 - last win board \n",
    "\n",
    "first_win_board, first_win_num = seq[0]\n",
    "last_win_board, last_win_num = seq[-1]\n",
    "\n",
    "for b in [('first', first_win_board, first_win_num), ('last', last_win_board, last_win_num)]:\n",
    "    name, idx, win_num = b\n",
    "    print(f'{name} win board = {idx}')\n",
    "    print(boards[idx])\n",
    "    print(boards_mask[idx])\n",
    "\n",
    "    score = win_num * (boards[idx] * (1 - boards_mask[idx])).sum()\n",
    "    print(f'{score=}')\n"
   ]
  },
  {
   "cell_type": "code",
   "execution_count": 93,
   "metadata": {},
   "outputs": [],
   "source": [
    "# day 5\n",
    "\n",
    "with open('advent2021/day5.txt') as f:\n",
    "    lines = f.readlines()\n",
    "    \n",
    "# parse data\n",
    "\n",
    "import re\n",
    "p = re.compile('(\\d+),(\\d+) -> (\\d+),(\\d+)')\n",
    "\n",
    "data = [p.match(l).groups() for l in lines]\n",
    "data = [(int(l[0]), int(l[1]), int(l[2]), int(l[3])) for l in data]"
   ]
  },
  {
   "cell_type": "code",
   "execution_count": 169,
   "metadata": {},
   "outputs": [
    {
     "name": "stdout",
     "output_type": "stream",
     "text": [
      "6856\n"
     ]
    }
   ],
   "source": [
    "# part 1\n",
    "space = np.zeros((1000, 1000))\n",
    "\n",
    "for d in data:\n",
    "    x0, y0, x1, y1 = d\n",
    "    if (x0==x1) or (y0==y1):\n",
    "        space[min(y0,y1):max(y0,y1)+1, min(x0,x1):max(x0,x1)+1] += 1\n",
    "        \n",
    "print((space>=2).sum())"
   ]
  },
  {
   "cell_type": "code",
   "execution_count": 195,
   "metadata": {},
   "outputs": [
    {
     "name": "stdout",
     "output_type": "stream",
     "text": [
      "20666\n"
     ]
    }
   ],
   "source": [
    "#part 2\n",
    "space = np.zeros((1000, 1000))\n",
    "\n",
    "\n",
    "for d in data:\n",
    "    x0, y0, x1, y1 = d\n",
    "    if (x0==x1) or (y0==y1): #straight line\n",
    "        space[min(y0,y1):max(y0,y1)+1, min(x0,x1):max(x0,x1)+1] += 1\n",
    "    elif abs(x0-x1)==abs(y0-y1): #diagonal line\n",
    "        steps = abs(x0-x1) + 1\n",
    "        x_direction = int(math.copysign(1, x1-x0))\n",
    "        y_direction = int(math.copysign(1, y1-y0))\n",
    "        \n",
    "        for s in range(steps):\n",
    "            _y = y0 + s*y_direction\n",
    "            _x = x0 + s*x_direction\n",
    "            space[_y, _x] += 1\n",
    "\n",
    "        \n",
    "print((space>=2).sum())"
   ]
  },
  {
   "cell_type": "code",
   "execution_count": 237,
   "metadata": {},
   "outputs": [],
   "source": [
    "# day 6\n",
    "\n",
    "with open('advent2021/day6.txt') as f:\n",
    "    lines = f.readlines()\n",
    "    \n",
    "fishes = lines[0].strip().split(',')\n",
    "data = [int(fish) for fish in fishes]"
   ]
  },
  {
   "cell_type": "code",
   "execution_count": 238,
   "metadata": {},
   "outputs": [
    {
     "data": {
      "text/plain": [
       "362666"
      ]
     },
     "execution_count": 238,
     "metadata": {},
     "output_type": "execute_result"
    }
   ],
   "source": [
    "# part 1\n",
    "\n",
    "total_days = 80\n",
    "\n",
    "fishes = data.copy()\n",
    "for day in range(total_days):\n",
    "    new_fish = []\n",
    "    for idx, fish in enumerate(fishes):\n",
    "\n",
    "        if fish==0: \n",
    "            new_fish.append(8)\n",
    "        fishes[idx] = (fish - 1) if fish>0 else 6\n",
    "    fishes.extend(new_fish)\n",
    "    \n",
    "len(fishes)"
   ]
  },
  {
   "cell_type": "code",
   "execution_count": 270,
   "metadata": {},
   "outputs": [
    {
     "name": "stdout",
     "output_type": "stream",
     "text": [
      "{0: 141609768142, 1: 168220217323, 2: 174580192795, 3: 192297609038, 4: 216599442496, 5: 220638749612, 6: 264026507130, 7: 118312776454, 8: 144241338605}\n",
      "1640526601595\n"
     ]
    }
   ],
   "source": [
    "# part 2 - same question, anther implementation given computation time\n",
    "\n",
    "fishes = data.copy()\n",
    "fish_count = {n:fishes.count(n) for n in range(9)}\n",
    "\n",
    "total_days = 256\n",
    "\n",
    "for day in range(total_days):\n",
    "    new_fish_count = {n-1:fish_count[n] for n in range(9)}\n",
    "    new_fish_count[8] = new_fish_count[-1]\n",
    "    new_fish_count[6] += new_fish_count[-1]\n",
    "    new_fish_count.pop(-1)\n",
    "    fish_count = new_fish_count\n",
    "    \n",
    "print(fish_count)\n",
    "print(sum(fish_count.values()))"
   ]
  },
  {
   "cell_type": "code",
   "execution_count": 277,
   "metadata": {},
   "outputs": [],
   "source": [
    "# day 7\n",
    "\n",
    "with open('advent2021/day7.txt') as f:\n",
    "    lines = f.readlines()\n",
    "    \n",
    "data = lines[0].strip().split(',')\n",
    "data = list(map(int, data))"
   ]
  },
  {
   "cell_type": "code",
   "execution_count": 289,
   "metadata": {},
   "outputs": [
    {
     "name": "stdout",
     "output_type": "stream",
     "text": [
      "sum absolute_distance: 325528.0\n"
     ]
    }
   ],
   "source": [
    "# part 1\n",
    "\n",
    "median = np.median(data)\n",
    "absolute_distance = list(map(lambda x:abs(x - median), data))\n",
    "\n",
    "print(f'sum absolute_distance: {np.sum(absolute_distance)}')"
   ]
  },
  {
   "cell_type": "code",
   "execution_count": 314,
   "metadata": {},
   "outputs": [],
   "source": [
    "# part 2\n",
    "\n",
    "def fuel_needed(dist):\n",
    "    return sum(range(dist+1))\n",
    "\n",
    "def total_fuel(alignment_point):\n",
    "    fuel_list = list(map(lambda x:fuel_needed(abs(x - int(alignment_point))), data))\n",
    "    return np.sum(fuel_list)\n",
    "    "
   ]
  },
  {
   "cell_type": "code",
   "execution_count": 329,
   "metadata": {},
   "outputs": [
    {
     "name": "stdout",
     "output_type": "stream",
     "text": [
      "left=0, mid_point=881, right=1762\n",
      "left=0, mid_point=440, right=881\n",
      "left=440, mid_point=660, right=881\n",
      "left=440, mid_point=550, right=660\n",
      "left=440, mid_point=495, right=550\n",
      "left=440, mid_point=467, right=495\n",
      "left=440, mid_point=453, right=467\n",
      "left=453, mid_point=460, right=467\n",
      "left=453, mid_point=456, right=460\n",
      "left=456, mid_point=458, right=460\n",
      "left:left=458:total_fuel(left)=85018811\n",
      "left:mid_point=458:total_fuel(mid_point)=85018811\n",
      "right:right=460:total_fuel(right)=85015836\n"
     ]
    }
   ],
   "source": [
    "# part 2 - find the turning point in the function\n",
    "\n",
    "left = 0\n",
    "right = max(data) - 1\n",
    "\n",
    "# for illustration purpose. not needed indeed\n",
    "# left_direction = math.copysign(1, total_fuel(left + 1) - total_fuel(left))\n",
    "# right_direction = math.copysign(1, total_fuel(right + 1) - total_fuel(right))\n",
    "\n",
    "found = False\n",
    "\n",
    "while not found:\n",
    "    mid_point = int( (left + right) / 2)\n",
    "    mid_direction = math.copysign(1, total_fuel(mid_point + 1) - total_fuel(mid_point))\n",
    "    print(f'{left=}, {mid_point=}, {right=}')\n",
    "    if mid_direction == -1:\n",
    "        left = mid_point\n",
    "    else:\n",
    "        right = mid_point\n",
    "        \n",
    "    if right-left<3:\n",
    "        found = True\n",
    "\n",
    "\n",
    "print(f'left:{left=}:{total_fuel(left)=}')\n",
    "print(f'left:{mid_point=}:{total_fuel(mid_point)=}')\n",
    "print(f'right:{right=}:{total_fuel(right)=}')  # supposely, right is the turning point\n"
   ]
  },
  {
   "cell_type": "code",
   "execution_count": 330,
   "metadata": {},
   "outputs": [],
   "source": [
    "# day 8\n",
    "\n",
    "with open('advent2021/day8.txt') as f:\n",
    "    lines = f.readlines()\n",
    "    \n",
    "data = [line.strip().split('|') for line in lines]\n",
    "data = [(line[0].strip().split(' '), line[1].strip().split(' ')) for line in data]"
   ]
  },
  {
   "cell_type": "code",
   "execution_count": 348,
   "metadata": {},
   "outputs": [],
   "source": [
    "# part 1\n",
    "\n",
    "# 1: 2 segments\n",
    "# 4: 4 segments\n",
    "# 7: 3 segments\n",
    "# 8: 7 segments\n",
    "\n",
    "def count_1478(tokens):\n",
    "    match = set([2, 4, 3, 7])\n",
    "    l = map(len, tokens)\n",
    "    l = map(lambda x: x in match, l)\n",
    "    return sum(l)\n",
    "\n",
    "l = [count_1478(line[1]) for line in data]\n",
    "sum(l)"
   ]
  },
  {
   "cell_type": "code",
   "execution_count": 412,
   "metadata": {},
   "outputs": [],
   "source": [
    "# part 2\n",
    "data[0][0]\n",
    "\n",
    "def decode(input_codes, output_codes):\n",
    "    \n",
    "    # a dict with the count of occurance of input segments\n",
    "    merged_input = ''.join(input_codes)\n",
    "    input_count = {i:merged_input.count(i) for i in 'abcdefg'}\n",
    "    \n",
    "    # deterministic mapping of code 1, 4, 7, 8\n",
    "    code_1 = list(filter(lambda x:len(x)==2, input_codes))[0]\n",
    "    code_4 = list(filter(lambda x:len(x)==4, input_codes))[0]\n",
    "    code_7 = list(filter(lambda x:len(x)==3, input_codes))[0]\n",
    "    code_8 = list(filter(lambda x:len(x)==7, input_codes))[0]\n",
    "    \n",
    "    # build the segments (dependency on sequence of processing)\n",
    "    segment_A = list(set(code_7) - set(code_1))[0]\n",
    "    segment_B = list(filter(lambda x:input_count[x]==6, input_count))[0]\n",
    "    segment_E = list(filter(lambda x:input_count[x]==4, input_count))[0]\n",
    "    segment_F = list(filter(lambda x:input_count[x]==9, input_count))[0]\n",
    "    segment_C = list(set(code_7) - set(segment_A + segment_F))[0]\n",
    "    segment_D = list(set(code_4) - set(segment_B + segment_C + segment_F))[0]\n",
    "    segment_G = list(set(code_8) - set(segment_A + segment_B + segment_C + segment_D + segment_E + segment_F))[0]\n",
    "#     print(f'{segment_A=}')    \n",
    "#     print(f'{segment_B=}')\n",
    "#     print(f'{segment_C=}')\n",
    "#     print(f'{segment_D=}')\n",
    "#     print(f'{segment_E=}')\n",
    "#     print(f'{segment_F=}')\n",
    "#     print(f'{segment_G=}')\n",
    "    \n",
    "    # build the code dict\n",
    "    code_dict = {\n",
    "        0: segment_A + segment_B + segment_C + segment_E + segment_F + segment_G,\n",
    "        1: segment_C + segment_F,\n",
    "        2: segment_A + segment_C + segment_D + segment_E + segment_G,\n",
    "        3: segment_A + segment_C + segment_D + segment_F + segment_G,\n",
    "        4: segment_B + segment_C + segment_D + segment_F,\n",
    "        5: segment_A + segment_B + segment_D + segment_F + segment_G,\n",
    "        6: segment_A + segment_B + segment_D + segment_E + segment_F + segment_G,\n",
    "        7: segment_A + segment_C + segment_F,\n",
    "        8: 'abcdefg',\n",
    "        9: segment_A + segment_B + segment_C + segment_D + segment_F + segment_G\n",
    "    }\n",
    "    \n",
    "    reverse_code_dict = {''.join(sorted(code_dict[k])):k for k in code_dict}\n",
    "    \n",
    "    output_list = [reverse_code_dict[''.join(sorted(code))] for code in output_codes]\n",
    "    return int(''.join(map(str, output_list)))\n",
    "    \n"
   ]
  },
  {
   "cell_type": "code",
   "execution_count": 416,
   "metadata": {},
   "outputs": [
    {
     "data": {
      "text/plain": [
       "973499"
      ]
     },
     "execution_count": 416,
     "metadata": {},
     "output_type": "execute_result"
    }
   ],
   "source": [
    "l = [decode(line[0], line[1]) for line in data]\n",
    "np.sum(l)"
   ]
  },
  {
   "cell_type": "code",
   "execution_count": 428,
   "metadata": {},
   "outputs": [],
   "source": [
    "# day 9\n",
    "\n",
    "with open('advent2021/day9.txt') as f:\n",
    "    lines = f.readlines()\n",
    "\n",
    "temp = [line.strip() for line in lines]\n",
    "\n",
    "data = []\n",
    "for line in temp:\n",
    "    data.append([int(c) for c in line])\n",
    "    \n",
    "arr = np.array(data)    "
   ]
  },
  {
   "cell_type": "code",
   "execution_count": 448,
   "metadata": {},
   "outputs": [],
   "source": [
    "# part 1\n",
    "def is_minima(i, j):\n",
    "    l = arr[i-1, j] if i>0 else 10\n",
    "    r = arr[i+1, j] if i<arr.shape[0]-1 else 10\n",
    "    u = arr[i, j-1] if j>0 else 10\n",
    "    d = arr[i, j+1] if j<arr.shape[1]-1 else 10\n",
    "    v = arr[i, j]\n",
    "\n",
    "    is_minima = (v<l) and (v<r) and (v<u) and (v<d)\n",
    "    return is_minima\n",
    "    \n",
    "min_list = []\n",
    "for i in range(arr.shape[0]):\n",
    "    for j in range(arr.shape[1]):\n",
    "        if is_minima(i, j):\n",
    "            min_list.append((i, j, arr[i,j] + 1))\n",
    "            \n",
    "\n",
    "np.sum([item[2] for item in min_list])"
   ]
  },
  {
   "cell_type": "code",
   "execution_count": 458,
   "metadata": {},
   "outputs": [],
   "source": [
    "# part 2\n",
    "\n",
    "# mask for area map\n",
    "marked = (arr==9)*1\n",
    "\n",
    "# use recursion to calculate area\n",
    "def basin_area(i, j):\n",
    "    area = 0\n",
    "    \n",
    "    # out of boundary\n",
    "    if (i<0) or (j<0) or (i>marked.shape[0]-1) or (j>marked.shape[1]-1):\n",
    "        return area\n",
    "    \n",
    "    \n",
    "    # unmarked count the area\n",
    "    if marked[i, j]==0:\n",
    "        marked[i, j] = 1\n",
    "        area +=1\n",
    "        \n",
    "        # explore the suroundings\n",
    "        area += basin_area(i-1, j)\n",
    "        area += basin_area(i+1, j)\n",
    "        area += basin_area(i, j-1)\n",
    "        area += basin_area(i, j+1)\n",
    "    \n",
    "    return area\n",
    "    \n",
    "\n",
    "    "
   ]
  },
  {
   "cell_type": "code",
   "execution_count": 459,
   "metadata": {},
   "outputs": [],
   "source": [
    "basin_list = []\n",
    "for item in min_list:\n",
    "    i, j, _ = item\n",
    "    basin_list.append((i, j, basin_area(i, j)))\n",
    "\n",
    "sorted_basin_list = sorted(basin_list, key=lambda tup: tup[2])\n",
    "np.product([item[2] for item in sorted_basin_list[-3:]])    "
   ]
  },
  {
   "cell_type": "code",
   "execution_count": 468,
   "metadata": {},
   "outputs": [],
   "source": [
    "# day 10\n",
    "\n",
    "with open('advent2021/day10.txt') as f:\n",
    "    lines = f.readlines()\n",
    "\n",
    "lines = [line.strip() for line in lines]"
   ]
  },
  {
   "cell_type": "code",
   "execution_count": 470,
   "metadata": {},
   "outputs": [
    {
     "data": {
      "text/plain": [
       "'({{[<{[{[[<([[<><>][{}()]]<([]{})[<>()]>)><<<([]())>>{([()<>][{}{}])<[<>()]{()()}>}>]<(<[[[]<>]({}{})]{{{}<>}'"
      ]
     },
     "execution_count": 470,
     "metadata": {},
     "output_type": "execute_result"
    }
   ],
   "source": [
    "lines[0]"
   ]
  },
  {
   "cell_type": "code",
   "execution_count": 490,
   "metadata": {},
   "outputs": [],
   "source": [
    "error_points = {\n",
    "    ')': 3,\n",
    "    ']': 57,\n",
    "    '}': 1197,\n",
    "    '>': 25137    \n",
    "}\n",
    "\n",
    "matched_token = {\n",
    "    '(': ')',\n",
    "    '[': ']',\n",
    "    '{': '}',\n",
    "    '<': '>'\n",
    "}\n",
    "\n",
    "def syntax_check(line_input):\n",
    "    syntax_stack = []\n",
    "    for c in line_input:\n",
    "        if c in '({[<':\n",
    "            syntax_stack.append(c)\n",
    "        elif c in ')}]>':\n",
    "            if len(syntax_stack)==0:\n",
    "                return -1\n",
    "            expected_token = matched_token[syntax_stack.pop()]\n",
    "            if (c!=expected_token):\n",
    "                return error_points[c]\n",
    "    return 0\n",
    "\n",
    "\n",
    "\n"
   ]
  },
  {
   "cell_type": "code",
   "execution_count": 491,
   "metadata": {},
   "outputs": [],
   "source": [
    "syntax_checked_lines = [syntax_check(line) for line in lines]\n",
    "np.sum(syntax_checked_lines)"
   ]
  },
  {
   "cell_type": "code",
   "execution_count": 499,
   "metadata": {},
   "outputs": [],
   "source": [
    "incomplete_lines = []\n",
    "\n",
    "for i in range(len(lines)):\n",
    "    if syntax_checked_lines[i]==0:\n",
    "        incomplete_lines.append(lines[i])\n"
   ]
  },
  {
   "cell_type": "code",
   "execution_count": 523,
   "metadata": {},
   "outputs": [],
   "source": [
    "autocomplete_score = {\n",
    "    '(': 1,\n",
    "    '[': 2,\n",
    "    '{': 3,\n",
    "    '<': 4\n",
    "}\n",
    "    \n",
    "def autocomplete_check(line_input):\n",
    "    syntax_stack = []\n",
    "    for c in line_input:\n",
    "        if c in '({[<':\n",
    "            syntax_stack.append(c)\n",
    "        elif c in ')}]>':\n",
    "            if len(syntax_stack)==0:\n",
    "                return -1\n",
    "            expected_token = matched_token[syntax_stack.pop()]\n",
    "            if (c!=expected_token):\n",
    "                return error_points[c]\n",
    "    \n",
    "    # scoring\n",
    "    score = 0\n",
    "    while (len(syntax_stack)>0):\n",
    "        score = score*5 + autocomplete_score[syntax_stack.pop()]\n",
    "    return score\n",
    "\n",
    "\n",
    "\n"
   ]
  },
  {
   "cell_type": "code",
   "execution_count": 524,
   "metadata": {},
   "outputs": [],
   "source": [
    "l = [autocomplete_check(line) for line in incomplete_lines]"
   ]
  },
  {
   "cell_type": "code",
   "execution_count": 526,
   "metadata": {},
   "outputs": [
    {
     "data": {
      "text/plain": [
       "2429644557"
      ]
     },
     "execution_count": 526,
     "metadata": {},
     "output_type": "execute_result"
    }
   ],
   "source": [
    "sorted(l)[int(len(l)/2)]"
   ]
  }
 ],
 "metadata": {
  "kernelspec": {
   "display_name": "Python 3",
   "language": "python",
   "name": "python3"
  },
  "language_info": {
   "codemirror_mode": {
    "name": "ipython",
    "version": 3
   },
   "file_extension": ".py",
   "mimetype": "text/x-python",
   "name": "python",
   "nbconvert_exporter": "python",
   "pygments_lexer": "ipython3",
   "version": "3.8.3"
  }
 },
 "nbformat": 4,
 "nbformat_minor": 4
}
