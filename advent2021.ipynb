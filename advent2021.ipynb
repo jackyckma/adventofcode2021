{
 "cells": [
  {
   "cell_type": "code",
   "execution_count": 168,
   "metadata": {},
   "outputs": [],
   "source": [
    "import functools\n",
    "import numpy as np"
   ]
  },
  {
   "cell_type": "code",
   "execution_count": 127,
   "metadata": {},
   "outputs": [
    {
     "name": "stdout",
     "output_type": "stream",
     "text": [
      "flat_count=0\n",
      "increased_count=1713\n",
      "decreased_count=286\n"
     ]
    }
   ],
   "source": [
    "#day1\n",
    "with open('advent2021/day1.txt') as f:\n",
    "    lines = f.readlines()\n",
    "\n",
    "lines = list(map(int, lines))\n",
    "num1 = lines[0]\n",
    "increased_count = 0\n",
    "decreased_count = 0\n",
    "flat_count = 0\n",
    "\n",
    "for n in range(1, len(lines)):\n",
    "    num2 = lines[n]\n",
    "    if num2==num1:\n",
    "        flat_count += 1\n",
    "    elif num2>num1:\n",
    "        increased_count +=1\n",
    "    else:\n",
    "        decreased_count +=1\n",
    "    num1 = num2\n",
    "        \n",
    "print(f\"{flat_count=}\")\n",
    "print(f\"{increased_count=}\")\n",
    "print(f\"{decreased_count=}\")\n",
    "        \n",
    "    "
   ]
  },
  {
   "cell_type": "code",
   "execution_count": 130,
   "metadata": {},
   "outputs": [
    {
     "name": "stdout",
     "output_type": "stream",
     "text": [
      "flat_count=40\n",
      "increased_count=1734\n",
      "decreased_count=223\n"
     ]
    }
   ],
   "source": [
    "lines2 = [lines[i] + lines[i+1] + lines[i+2] for i in range(len(lines) - 2)]\n",
    "\n",
    "num1 = lines2[0]\n",
    "increased_count = 0\n",
    "decreased_count = 0\n",
    "flat_count = 0\n",
    "\n",
    "for n in range(1, len(lines2)):\n",
    "    num2 = lines2[n]\n",
    "    if num2==num1:\n",
    "        flat_count += 1\n",
    "    elif num2>num1:\n",
    "        increased_count +=1\n",
    "    else:\n",
    "        decreased_count +=1\n",
    "    num1 = num2\n",
    "        \n",
    "print(f\"{flat_count=}\")\n",
    "print(f\"{increased_count=}\")\n",
    "print(f\"{decreased_count=}\")"
   ]
  },
  {
   "cell_type": "code",
   "execution_count": 132,
   "metadata": {},
   "outputs": [],
   "source": [
    "#day2\n",
    "\n",
    "with open('advent2021/day2.txt') as f:\n",
    "    lines = f.readlines()"
   ]
  },
  {
   "cell_type": "code",
   "execution_count": 137,
   "metadata": {},
   "outputs": [
    {
     "name": "stdout",
     "output_type": "stream",
     "text": [
      "x=1939, y=1109, x*y=2150351\n"
     ]
    }
   ],
   "source": [
    "x = 0\n",
    "y = 0\n",
    "\n",
    "for l in lines:\n",
    "    d, n = l.split(' ')\n",
    "    n = int(n)\n",
    "    if d=='forward':\n",
    "        x+=n\n",
    "    elif d=='down':\n",
    "        y+=n\n",
    "    elif d=='up':\n",
    "        y-=n\n",
    "    else:\n",
    "        print(f'error: {l}')\n",
    "        \n",
    "print(f'{x=}, {y=}, {x*y=}')"
   ]
  },
  {
   "cell_type": "code",
   "execution_count": 138,
   "metadata": {},
   "outputs": [
    {
     "name": "stdout",
     "output_type": "stream",
     "text": [
      "x=1939, y=950357, x*y=1842742223\n"
     ]
    }
   ],
   "source": [
    "x = 0\n",
    "y = 0\n",
    "aim = 0\n",
    "\n",
    "for l in lines:\n",
    "    d, n = l.split(' ')\n",
    "    n = int(n)\n",
    "    if d=='forward':\n",
    "        x+=n\n",
    "        y+=aim*n\n",
    "    elif d=='down':\n",
    "        aim+=n\n",
    "    elif d=='up':\n",
    "        aim-=n\n",
    "    else:\n",
    "        print(f'error: {l}')\n",
    "        \n",
    "print(f'{x=}, {y=}, {x*y=}')"
   ]
  },
  {
   "cell_type": "code",
   "execution_count": 162,
   "metadata": {},
   "outputs": [],
   "source": [
    "#day3\n",
    "from scipy.stats import mode\n",
    "\n",
    "with open('advent2021/day3.txt') as f:\n",
    "    lines = f.readlines()"
   ]
  },
  {
   "cell_type": "code",
   "execution_count": 163,
   "metadata": {},
   "outputs": [],
   "source": [
    "lines = list(map(lambda l: l[:-1], lines))"
   ]
  },
  {
   "cell_type": "code",
   "execution_count": 177,
   "metadata": {},
   "outputs": [
    {
     "data": {
      "text/plain": [
       "(1000, 12)"
      ]
     },
     "execution_count": 177,
     "metadata": {},
     "output_type": "execute_result"
    }
   ],
   "source": [
    "def str_to_numbers(s):\n",
    "    return [int(c) for c in s]\n",
    "\n",
    "data = [str_to_numbers(l) for l in lines]\n",
    "arr = np.array(data)\n",
    "arr.shape"
   ]
  },
  {
   "cell_type": "code",
   "execution_count": 201,
   "metadata": {},
   "outputs": [
    {
     "name": "stdout",
     "output_type": "stream",
     "text": [
      "gamma=3529, epsilon=566, gamma*epsilon=1997414\n"
     ]
    }
   ],
   "source": [
    "gamma_list = []\n",
    "for i in range(12):\n",
    "    gamma_list.append(mode(arr[:, i])[0][0])\n",
    "\n",
    "epsilon_list = list(map(lambda x:1-x, gamma_list))\n",
    "\n",
    "gamma = int('0b'+''.join([str(n) for n in gamma_list]), 2)\n",
    "epsilon = int('0b'+''.join([str(n) for n in epsilon_list]), 2)\n",
    "\n",
    "print(f'{gamma=}, {epsilon=}, {gamma*epsilon=}')"
   ]
  },
  {
   "cell_type": "code",
   "execution_count": 232,
   "metadata": {},
   "outputs": [],
   "source": [
    "oxygen_arr = arr.copy()\n",
    "\n",
    "oxygen_list = []\n",
    "for i in range(12):\n",
    "    length = oxygen_arr.shape[0]\n",
    "\n",
    "    count = mode(oxygen_arr[:, i])[1][0]\n",
    "    \n",
    "    if count == length/2:\n",
    "        v = 1\n",
    "    else:\n",
    "        v = mode(oxygen_arr[:, i])[0][0]\n",
    "    \n",
    "    oxygen_list.append(v)\n",
    "\n",
    "    oxygen_arr = oxygen_arr[oxygen_arr[:,i]==v]\n",
    "    \n",
    "oxygen = int('0b'+''.join([str(n) for n in oxygen_list]), 2)\n",
    "\n"
   ]
  },
  {
   "cell_type": "code",
   "execution_count": 233,
   "metadata": {},
   "outputs": [],
   "source": [
    "co2_arr = arr.copy()\n",
    "\n",
    "co2_list = []\n",
    "for i in range(12):\n",
    "    length = co2_arr.shape[0]\n",
    "    if length==1:\n",
    "        co2_list=list(co2_arr[0])\n",
    "        break\n",
    "\n",
    "    count = mode(co2_arr[:, i])[1][0]\n",
    "    \n",
    "    if count == length/2:\n",
    "        v = 0\n",
    "    else:\n",
    "        v = 1 - mode(co2_arr[:, i])[0][0]\n",
    "    \n",
    "    co2_list.append(v)\n",
    "\n",
    "    co2_arr = co2_arr[co2_arr[:,i]==v]\n",
    "    \n",
    "co2 = int('0b'+''.join([str(n) for n in co2_list]), 2)\n",
    "\n"
   ]
  },
  {
   "cell_type": "code",
   "execution_count": 234,
   "metadata": {},
   "outputs": [
    {
     "name": "stdout",
     "output_type": "stream",
     "text": [
      "oxygen=3573, co2=289, oxygen*co2=1032597\n"
     ]
    }
   ],
   "source": [
    "print(f'{oxygen=}, {co2=}, {oxygen*co2=}')"
   ]
  }
 ],
 "metadata": {
  "kernelspec": {
   "display_name": "Python 3",
   "language": "python",
   "name": "python3"
  },
  "language_info": {
   "codemirror_mode": {
    "name": "ipython",
    "version": 3
   },
   "file_extension": ".py",
   "mimetype": "text/x-python",
   "name": "python",
   "nbconvert_exporter": "python",
   "pygments_lexer": "ipython3",
   "version": "3.8.3"
  }
 },
 "nbformat": 4,
 "nbformat_minor": 4
}
